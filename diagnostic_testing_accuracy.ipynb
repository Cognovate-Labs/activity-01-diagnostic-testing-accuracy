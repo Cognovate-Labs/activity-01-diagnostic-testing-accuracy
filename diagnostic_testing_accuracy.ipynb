{
 "cells": [
  {
   "cell_type": "markdown",
   "id": "06148bdd-d967-40ab-98fd-ed2ae40a0af0",
   "metadata": {},
   "source": [
    "# Diagnostic Testing Accuracy Practice\n",
    "\n",
    "A healthcare provider is testing a new diagnostic method using a blood test to detect a particular disease. Your task is to analyze the performance of this test using simulated data."
   ]
  },
  {
   "cell_type": "code",
   "execution_count": 7,
   "id": "17b3d4d2-553e-46a1-aeb9-240710b4b218",
   "metadata": {},
   "outputs": [],
   "source": [
    "import pandas as pd\n",
    "import numpy as np\n",
    "from simulate import DiagnosticSimulator\n",
    "\n",
    "np.random.seed(30)"
   ]
  },
  {
   "cell_type": "markdown",
   "id": "3efa748a-656a-4149-a748-3157cbf5a161",
   "metadata": {},
   "source": [
    "## Your Task\n",
    "\n",
    "1. Understand what this simulated dataset consist of\n",
    "2. Build a confusion matrix\n",
    "3. Compute test performance metrics:\n",
    "4. Reflection"
   ]
  },
  {
   "cell_type": "code",
   "execution_count": 8,
   "id": "68981e1d-ed36-467d-914d-cb6bcc2f0c21",
   "metadata": {},
   "outputs": [],
   "source": [
    "sim = DiagnosticSimulator()\n",
    "data = sim.simulate()"
   ]
  },
  {
   "cell_type": "markdown",
   "id": "e90acd05-e911-4e14-9ca0-87a71033cb02",
   "metadata": {},
   "source": [
    "### Understand what this simulated dataset consists of"
   ]
  },
  {
   "cell_type": "code",
   "execution_count": 10,
   "id": "c1f843c9-7215-4d5d-afc1-2d8bda2cfbfe",
   "metadata": {},
   "outputs": [
    {
     "data": {
      "text/html": [
       "<div>\n",
       "<style scoped>\n",
       "    .dataframe tbody tr th:only-of-type {\n",
       "        vertical-align: middle;\n",
       "    }\n",
       "\n",
       "    .dataframe tbody tr th {\n",
       "        vertical-align: top;\n",
       "    }\n",
       "\n",
       "    .dataframe thead th {\n",
       "        text-align: right;\n",
       "    }\n",
       "</style>\n",
       "<table border=\"1\" class=\"dataframe\">\n",
       "  <thead>\n",
       "    <tr style=\"text-align: right;\">\n",
       "      <th></th>\n",
       "      <th>PatientID</th>\n",
       "      <th>TrueDisease</th>\n",
       "      <th>TestResult</th>\n",
       "    </tr>\n",
       "  </thead>\n",
       "  <tbody>\n",
       "    <tr>\n",
       "      <th>0</th>\n",
       "      <td>1</td>\n",
       "      <td>0</td>\n",
       "      <td>1</td>\n",
       "    </tr>\n",
       "    <tr>\n",
       "      <th>1</th>\n",
       "      <td>2</td>\n",
       "      <td>0</td>\n",
       "      <td>1</td>\n",
       "    </tr>\n",
       "    <tr>\n",
       "      <th>2</th>\n",
       "      <td>3</td>\n",
       "      <td>0</td>\n",
       "      <td>1</td>\n",
       "    </tr>\n",
       "    <tr>\n",
       "      <th>3</th>\n",
       "      <td>4</td>\n",
       "      <td>1</td>\n",
       "      <td>1</td>\n",
       "    </tr>\n",
       "    <tr>\n",
       "      <th>4</th>\n",
       "      <td>5</td>\n",
       "      <td>0</td>\n",
       "      <td>1</td>\n",
       "    </tr>\n",
       "    <tr>\n",
       "      <th>...</th>\n",
       "      <td>...</td>\n",
       "      <td>...</td>\n",
       "      <td>...</td>\n",
       "    </tr>\n",
       "    <tr>\n",
       "      <th>995</th>\n",
       "      <td>996</td>\n",
       "      <td>0</td>\n",
       "      <td>1</td>\n",
       "    </tr>\n",
       "    <tr>\n",
       "      <th>996</th>\n",
       "      <td>997</td>\n",
       "      <td>0</td>\n",
       "      <td>1</td>\n",
       "    </tr>\n",
       "    <tr>\n",
       "      <th>997</th>\n",
       "      <td>998</td>\n",
       "      <td>0</td>\n",
       "      <td>1</td>\n",
       "    </tr>\n",
       "    <tr>\n",
       "      <th>998</th>\n",
       "      <td>999</td>\n",
       "      <td>1</td>\n",
       "      <td>1</td>\n",
       "    </tr>\n",
       "    <tr>\n",
       "      <th>999</th>\n",
       "      <td>1000</td>\n",
       "      <td>0</td>\n",
       "      <td>1</td>\n",
       "    </tr>\n",
       "  </tbody>\n",
       "</table>\n",
       "<p>1000 rows × 3 columns</p>\n",
       "</div>"
      ],
      "text/plain": [
       "     PatientID  TrueDisease  TestResult\n",
       "0            1            0           1\n",
       "1            2            0           1\n",
       "2            3            0           1\n",
       "3            4            1           1\n",
       "4            5            0           1\n",
       "..         ...          ...         ...\n",
       "995        996            0           1\n",
       "996        997            0           1\n",
       "997        998            0           1\n",
       "998        999            1           1\n",
       "999       1000            0           1\n",
       "\n",
       "[1000 rows x 3 columns]"
      ]
     },
     "execution_count": 10,
     "metadata": {},
     "output_type": "execute_result"
    }
   ],
   "source": [
    "data"
   ]
  },
  {
   "cell_type": "code",
   "execution_count": 12,
   "id": "7825dfdc-e698-4ee0-ab5e-5338a35f6f5c",
   "metadata": {},
   "outputs": [
    {
     "data": {
      "text/plain": [
       "TrueDisease\n",
       "0    616\n",
       "1    384\n",
       "Name: count, dtype: int64"
      ]
     },
     "execution_count": 12,
     "metadata": {},
     "output_type": "execute_result"
    }
   ],
   "source": [
    "data[\"TrueDisease\"].value_counts()"
   ]
  },
  {
   "cell_type": "code",
   "execution_count": 13,
   "id": "ca1ba8e9-073b-48d1-b1a4-2bee6d03b1d8",
   "metadata": {},
   "outputs": [
    {
     "data": {
      "text/plain": [
       "TestResult\n",
       "1    948\n",
       "0     52\n",
       "Name: count, dtype: int64"
      ]
     },
     "execution_count": 13,
     "metadata": {},
     "output_type": "execute_result"
    }
   ],
   "source": [
    "data[\"TestResult\"].value_counts()"
   ]
  },
  {
   "cell_type": "markdown",
   "id": "fc06c5b0-2af3-4f97-bb9a-1732fb0d78df",
   "metadata": {},
   "source": [
    "### Build a confustion matrix\n",
    "\n",
    "**Note:** Your are building this from scratch. No use of external libraries to create the confusion matrix."
   ]
  },
  {
   "cell_type": "code",
   "execution_count": 40,
   "id": "313a14e2-6205-4b2a-bdae-fc97aadd8b55",
   "metadata": {},
   "outputs": [
    {
     "data": {
      "text/html": [
       "<div>\n",
       "<style scoped>\n",
       "    .dataframe tbody tr th:only-of-type {\n",
       "        vertical-align: middle;\n",
       "    }\n",
       "\n",
       "    .dataframe tbody tr th {\n",
       "        vertical-align: top;\n",
       "    }\n",
       "\n",
       "    .dataframe thead th {\n",
       "        text-align: right;\n",
       "    }\n",
       "</style>\n",
       "<table border=\"1\" class=\"dataframe\">\n",
       "  <thead>\n",
       "    <tr style=\"text-align: right;\">\n",
       "      <th></th>\n",
       "      <th></th>\n",
       "      <th>PatientID</th>\n",
       "    </tr>\n",
       "    <tr>\n",
       "      <th>TestResult</th>\n",
       "      <th>TrueDisease</th>\n",
       "      <th></th>\n",
       "    </tr>\n",
       "  </thead>\n",
       "  <tbody>\n",
       "    <tr>\n",
       "      <th rowspan=\"2\" valign=\"top\">0</th>\n",
       "      <th>0</th>\n",
       "      <td>38</td>\n",
       "    </tr>\n",
       "    <tr>\n",
       "      <th>1</th>\n",
       "      <td>14</td>\n",
       "    </tr>\n",
       "    <tr>\n",
       "      <th rowspan=\"2\" valign=\"top\">1</th>\n",
       "      <th>0</th>\n",
       "      <td>578</td>\n",
       "    </tr>\n",
       "    <tr>\n",
       "      <th>1</th>\n",
       "      <td>370</td>\n",
       "    </tr>\n",
       "  </tbody>\n",
       "</table>\n",
       "</div>"
      ],
      "text/plain": [
       "                        PatientID\n",
       "TestResult TrueDisease           \n",
       "0          0                   38\n",
       "           1                   14\n",
       "1          0                  578\n",
       "           1                  370"
      ]
     },
     "execution_count": 40,
     "metadata": {},
     "output_type": "execute_result"
    }
   ],
   "source": [
    "confustion = data.groupby(['TestResult', 'TrueDisease']).count()\n",
    "confustion"
   ]
  },
  {
   "cell_type": "markdown",
   "id": "0083e3ef-1ad7-406f-a0ce-a8c0d565a3d3",
   "metadata": {},
   "source": [
    "### Compute test performance metrics\n",
    "\n",
    "- Sensitivity\n",
    "- Specificity\n",
    "- Positive Predictive Value\n",
    "- Negative Predictive Value\n",
    "- Likelihood Ratios(LR+ and LR-)"
   ]
  },
  {
   "cell_type": "code",
   "execution_count": 42,
   "id": "7ea31756-ddfc-4036-881e-1f478284d6e9",
   "metadata": {},
   "outputs": [
    {
     "name": "stdout",
     "output_type": "stream",
     "text": [
      "sensitivity = 0.9635416666666666\n",
      "specificity = 0.06168831168831169\n",
      "ppv = 0.39029535864978904\n",
      "npv = 0.7307692307692307\n",
      "Likelihood Ratio positive = 1.0268886966551325\n",
      "Likelihood Ratio negative = 0.5910087719298251\n"
     ]
    }
   ],
   "source": [
    "# True negative = 38\n",
    "# False negative = 14\n",
    "# False positive = 578\n",
    "# True positive = 370\n",
    "\n",
    "sensitivity = (370 / (370 + 14))\n",
    "specificity = (38 / (38 + 578))\n",
    "ppv = (370 / (370 + 578))\n",
    "npv = (38 / (38 + 14))\n",
    "lr_po = sensitivity / (1 - specificity)\n",
    "lr_ne = (1 - sensitivity) / specificity\n",
    "\n",
    "print('sensitivity =',sensitivity)\n",
    "print('specificity =',specificity)\n",
    "print('ppv =',ppv)\n",
    "print('npv =',npv)\n",
    "print('Likelihood Ratio positive =', lr_po)\n",
    "print('Likelihood Ratio negative =', lr_ne)"
   ]
  },
  {
   "cell_type": "markdown",
   "id": "eef9a567-6b39-4a4f-8946-8236cb17faad",
   "metadata": {},
   "source": [
    "### Reflection\n",
    "\n",
    "1. Based on sensitivity and specificity, how accurate is the test?"
   ]
  },
  {
   "cell_type": "code",
   "execution_count": 48,
   "id": "ae74ce8a-c8f1-476a-b729-8eadccf61094",
   "metadata": {},
   "outputs": [],
   "source": [
    "# The sensitivity is quite high at around 96% which means that there is a greter proporition\n",
    "# of true postiives than false negatives; shows the test is very accurate.\n",
    "# The specificity is almost abysmal at 6.2% meaning that the test struggles to correctly identify \n",
    "# healthy individuals-- a far greater proportion of false postiives compared to true negatives. \n",
    "# When claiming a patient is healthy, the test performs very poorly. "
   ]
  },
  {
   "cell_type": "markdown",
   "id": "e007344a-c7ca-4570-8fab-de515e158496",
   "metadata": {},
   "source": [
    "2. If a patient tests positive, how confident can we be that they truly have the disease?"
   ]
  },
  {
   "cell_type": "code",
   "execution_count": 49,
   "id": "b118d28d-0384-4c3a-a721-d6938ee5f4dd",
   "metadata": {},
   "outputs": [],
   "source": [
    "# There is about a 39% confidence that the patient truly has the disease."
   ]
  },
  {
   "cell_type": "markdown",
   "id": "6e0b952e-15e3-4b65-bae6-f35ce38f4ef9",
   "metadata": {},
   "source": [
    "3. How would the predictive values change if the disease were rare(e.g. <5% prevalence)?"
   ]
  },
  {
   "cell_type": "code",
   "execution_count": null,
   "id": "f92c8272-84ce-4315-8fa2-1f5c0e97eacd",
   "metadata": {},
   "outputs": [],
   "source": [
    "# "
   ]
  },
  {
   "cell_type": "markdown",
   "id": "47d44a7b-5412-4672-8a80-c3d3f894b18a",
   "metadata": {},
   "source": [
    "4. Which metric would be most important for:\n",
    "    - A screening test for early detection\n",
    "    - A confirmatory test to finalize diagnosis"
   ]
  },
  {
   "cell_type": "code",
   "execution_count": null,
   "id": "a24239b9-f1f0-465d-bdd2-07a65bb38878",
   "metadata": {},
   "outputs": [],
   "source": []
  },
  {
   "cell_type": "markdown",
   "id": "b1d02c1f-902a-4d12-921d-0aa09b3f1d6e",
   "metadata": {},
   "source": [
    "### Optional Exercise\n",
    "\n",
    "Try rerunning the simulation with a different prevalence(e.g., 5%, 50%, 70%) and observe how the PPV and NPV change, even if sensitivity and specificity remain the same."
   ]
  },
  {
   "cell_type": "code",
   "execution_count": 3,
   "id": "c28b0323-3d65-4952-9118-5aadb74986d8",
   "metadata": {},
   "outputs": [],
   "source": [
    "# reset the same seed from earlier\n",
    "np.random.seed(30)\n",
    "\n",
    "# pass additional arguments to simulator\n",
    "sim = DiagnosticSimulator(n_patients=1000, prevalence=0.384)\n",
    "data = sim.simulate()"
   ]
  },
  {
   "cell_type": "code",
   "execution_count": null,
   "id": "c5253136-c2f5-4ed3-bfb7-16c7ab7e4df0",
   "metadata": {},
   "outputs": [],
   "source": []
  }
 ],
 "metadata": {
  "kernelspec": {
   "display_name": "Python [conda env:base] *",
   "language": "python",
   "name": "conda-base-py"
  },
  "language_info": {
   "codemirror_mode": {
    "name": "ipython",
    "version": 3
   },
   "file_extension": ".py",
   "mimetype": "text/x-python",
   "name": "python",
   "nbconvert_exporter": "python",
   "pygments_lexer": "ipython3",
   "version": "3.13.5"
  }
 },
 "nbformat": 4,
 "nbformat_minor": 5
}
