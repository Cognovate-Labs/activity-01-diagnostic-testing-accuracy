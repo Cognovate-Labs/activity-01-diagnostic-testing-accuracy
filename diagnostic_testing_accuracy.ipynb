{
 "cells": [
  {
   "cell_type": "markdown",
   "id": "06148bdd-d967-40ab-98fd-ed2ae40a0af0",
   "metadata": {},
   "source": [
    "# Diagnostic Testing Accuracy Practice\n",
    "\n",
    "A healthcare provider is testing a new diagnostic method using a blood test to detect a particular disease. Your task is to analyze the performance of this test using simulated data."
   ]
  },
  {
   "cell_type": "code",
   "execution_count": 7,
   "id": "17b3d4d2-553e-46a1-aeb9-240710b4b218",
   "metadata": {},
   "outputs": [],
   "source": [
    "import pandas as pd\n",
    "import numpy as np\n",
    "from simulate import DiagnosticSimulator\n",
    "\n",
    "np.random.seed(30)"
   ]
  },
  {
   "cell_type": "markdown",
   "id": "3efa748a-656a-4149-a748-3157cbf5a161",
   "metadata": {},
   "source": [
    "## Your Task\n",
    "\n",
    "1. Understand what this simulated dataset consist of\n",
    "2. Build a confusion matrix\n",
    "3. Compute test performance metrics:\n",
    "4. Reflection"
   ]
  },
  {
   "cell_type": "code",
   "execution_count": 8,
   "id": "68981e1d-ed36-467d-914d-cb6bcc2f0c21",
   "metadata": {},
   "outputs": [],
   "source": [
    "sim = DiagnosticSimulator()\n",
    "data = sim.simulate()"
   ]
  },
  {
   "cell_type": "markdown",
   "id": "e90acd05-e911-4e14-9ca0-87a71033cb02",
   "metadata": {},
   "source": [
    "### Understand what this simulated dataset consists of"
   ]
  },
  {
   "cell_type": "markdown",
   "id": "fc06c5b0-2af3-4f97-bb9a-1732fb0d78df",
   "metadata": {},
   "source": [
    "### Build a confustion matrix\n",
    "\n",
    "**Note:** Your are building this from scratch. No use of external libraries to create the confusion matrix."
   ]
  },
  {
   "cell_type": "markdown",
   "id": "0083e3ef-1ad7-406f-a0ce-a8c0d565a3d3",
   "metadata": {},
   "source": [
    "### Compute test performance metrics\n",
    "\n",
    "- Sensitivity\n",
    "- Specificity\n",
    "- Positive Predictive Value\n",
    "- Negative Predictive Value\n",
    "- Likelihood Ratios(LR+ and LR-)"
   ]
  },
  {
   "cell_type": "markdown",
   "id": "eef9a567-6b39-4a4f-8946-8236cb17faad",
   "metadata": {},
   "source": [
    "### Reflection\n",
    "\n",
    "1. Based on sensitivity and specificity, how accurate is the test?"
   ]
  },
  {
   "cell_type": "code",
   "execution_count": null,
   "id": "ae74ce8a-c8f1-476a-b729-8eadccf61094",
   "metadata": {},
   "outputs": [],
   "source": []
  },
  {
   "cell_type": "markdown",
   "id": "e007344a-c7ca-4570-8fab-de515e158496",
   "metadata": {},
   "source": [
    "2. If a patient tests positive, how confident can we be that they truly have the disease?"
   ]
  },
  {
   "cell_type": "code",
   "execution_count": null,
   "id": "b118d28d-0384-4c3a-a721-d6938ee5f4dd",
   "metadata": {},
   "outputs": [],
   "source": []
  },
  {
   "cell_type": "markdown",
   "id": "6e0b952e-15e3-4b65-bae6-f35ce38f4ef9",
   "metadata": {},
   "source": [
    "3. How would the predictive values change if the disease were rare(e.g. <5% prevalence)?"
   ]
  },
  {
   "cell_type": "code",
   "execution_count": null,
   "id": "f92c8272-84ce-4315-8fa2-1f5c0e97eacd",
   "metadata": {},
   "outputs": [],
   "source": []
  },
  {
   "cell_type": "markdown",
   "id": "47d44a7b-5412-4672-8a80-c3d3f894b18a",
   "metadata": {},
   "source": [
    "4. Which metric would be most important for:\n",
    "    - A screening test for early detection\n",
    "    - A confirmatory test to finalize diagnosis"
   ]
  },
  {
   "cell_type": "code",
   "execution_count": null,
   "id": "a24239b9-f1f0-465d-bdd2-07a65bb38878",
   "metadata": {},
   "outputs": [],
   "source": []
  },
  {
   "cell_type": "markdown",
   "id": "b1d02c1f-902a-4d12-921d-0aa09b3f1d6e",
   "metadata": {},
   "source": [
    "### Optional Exercise\n",
    "\n",
    "Try rerunning the simulation with a different prevalence(e.g., 5%, 50%, 70%) and observe how the PPV and NPV change, even if sensitivity and specificity remain the same."
   ]
  },
  {
   "cell_type": "code",
   "execution_count": 3,
   "id": "c28b0323-3d65-4952-9118-5aadb74986d8",
   "metadata": {},
   "outputs": [],
   "source": [
    "# reset the same seed from earlier\n",
    "np.random.seed(30)\n",
    "\n",
    "# pass additional arguments to simulator\n",
    "sim = DiagnosticSimulator(n_patients=1000, prevalence=0.384)\n",
    "data = sim.simulate()"
   ]
  },
  {
   "cell_type": "code",
   "execution_count": null,
   "id": "c5253136-c2f5-4ed3-bfb7-16c7ab7e4df0",
   "metadata": {},
   "outputs": [],
   "source": []
  }
 ],
 "metadata": {
  "kernelspec": {
   "display_name": "Python [conda env:base] *",
   "language": "python",
   "name": "conda-base-py"
  },
  "language_info": {
   "codemirror_mode": {
    "name": "ipython",
    "version": 3
   },
   "file_extension": ".py",
   "mimetype": "text/x-python",
   "name": "python",
   "nbconvert_exporter": "python",
   "pygments_lexer": "ipython3",
   "version": "3.13.5"
  }
 },
 "nbformat": 4,
 "nbformat_minor": 5
}
